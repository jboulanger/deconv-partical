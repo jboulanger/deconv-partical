{
 "cells": [
  {
   "cell_type": "code",
   "execution_count": null,
   "metadata": {},
   "outputs": [],
   "source": [
    "import numpy as np\n",
    "import matplotlib.pyplot as plt\n",
    "from skimage.metrics import mean_squared_error\n",
    "from mug import deconvolution\n",
    "from mug import data\n",
    "from mug import utils\n",
    "\n",
    "shape = [64,256,256]\n",
    "pixel_size = [100,80,80]\n",
    "otf, psf = deconvolution.otf_generator(shape,pixel_size,500,1,1.3)([0,0,0,0.0])\n",
    "plt.imshow(utils.slice3d(np.log(1e-6+np.fft.fftshift(psf))))\n",
    "plt.axis('off')\n",
    "plt.title('Point spread function');"
   ]
  }
 ],
 "metadata": {
  "kernelspec": {
   "display_name": "Python 3.10.7 64-bit",
   "language": "python",
   "name": "python3"
  },
  "language_info": {
   "name": "python",
   "version": "3.10.7"
  },
  "orig_nbformat": 4,
  "vscode": {
   "interpreter": {
    "hash": "ea928f5d67c4c93314bde902f9925b00b35f33a7a7fd46f2f8b2a0108e4de065"
   }
  }
 },
 "nbformat": 4,
 "nbformat_minor": 2
}
